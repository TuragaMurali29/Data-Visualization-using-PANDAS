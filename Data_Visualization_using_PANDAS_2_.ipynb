{
  "nbformat": 4,
  "nbformat_minor": 0,
  "metadata": {
    "colab": {
      "provenance": [],
      "authorship_tag": "ABX9TyOX1vVuPZMdas0k7K13RpHw",
      "include_colab_link": true
    },
    "kernelspec": {
      "name": "python3",
      "display_name": "Python 3"
    },
    "language_info": {
      "name": "python"
    }
  },
  "cells": [
    {
      "cell_type": "markdown",
      "metadata": {
        "id": "view-in-github",
        "colab_type": "text"
      },
      "source": [
        "<a href=\"https://colab.research.google.com/github/TuragaMurali29/Data-Visualization-using-PANDAS/blob/main/Data_Visualization_using_PANDAS_2_.ipynb\" target=\"_parent\"><img src=\"https://colab.research.google.com/assets/colab-badge.svg\" alt=\"Open In Colab\"/></a>"
      ]
    },
    {
      "cell_type": "code",
      "execution_count": 1,
      "metadata": {
        "id": "TjGodahAv1EQ"
      },
      "outputs": [],
      "source": [
        "import random"
      ]
    },
    {
      "cell_type": "code",
      "source": [
        "from google.colab import drive\n",
        "drive.mount('/content/drive')"
      ],
      "metadata": {
        "colab": {
          "base_uri": "https://localhost:8080/"
        },
        "id": "cukihQuPyeOb",
        "outputId": "5aab0e59-0488-447d-f74c-374290375aae"
      },
      "execution_count": 2,
      "outputs": [
        {
          "output_type": "stream",
          "name": "stdout",
          "text": [
            "Mounted at /content/drive\n"
          ]
        }
      ]
    },
    {
      "cell_type": "code",
      "source": [
        "import pandas as pd"
      ],
      "metadata": {
        "id": "ywqK4cjBv6Kv"
      },
      "execution_count": 3,
      "outputs": []
    },
    {
      "cell_type": "code",
      "source": [
        "datasetpath = '/content/drive/MyDrive/matches_1930_2022.csv'"
      ],
      "metadata": {
        "id": "3v27Pd08v6M6"
      },
      "execution_count": 4,
      "outputs": []
    },
    {
      "cell_type": "code",
      "source": [
        "df = pd.read_csv(datasetpath)"
      ],
      "metadata": {
        "id": "K1b_oHvav6Qx"
      },
      "execution_count": 5,
      "outputs": []
    },
    {
      "cell_type": "code",
      "source": [
        "df"
      ],
      "metadata": {
        "collapsed": true,
        "colab": {
          "base_uri": "https://localhost:8080/",
          "height": 565
        },
        "id": "7416mbNP2iuX",
        "outputId": "3b80b220-47d1-43d7-f479-4b0e64e33f8d"
      },
      "execution_count": 6,
      "outputs": [
        {
          "output_type": "execute_result",
          "data": {
            "text/plain": [
              "         home_team away_team  home_score  home_xg  home_penalty  away_score  \\\n",
              "0        Argentina    France           3      3.3           4.0           3   \n",
              "1          Croatia   Morocco           2      0.7           NaN           1   \n",
              "2           France   Morocco           2      2.0           NaN           0   \n",
              "3        Argentina   Croatia           3      2.3           NaN           0   \n",
              "4          Morocco  Portugal           1      1.4           NaN           0   \n",
              "..             ...       ...         ...      ...           ...         ...   \n",
              "959      Argentina    France           1      NaN           NaN           0   \n",
              "960     Yugoslavia    Brazil           2      NaN           NaN           1   \n",
              "961        Romania      Peru           3      NaN           NaN           1   \n",
              "962  United States   Belgium           3      NaN           NaN           0   \n",
              "963         France    Mexico           4      NaN           NaN           1   \n",
              "\n",
              "     away_xg  away_penalty      home_manager          home_captain  ...  \\\n",
              "0        2.2           2.0    Lionel Scaloni          Lionel Messi  ...   \n",
              "1        1.2           NaN      Zlatko Dalić           Luka Modrić  ...   \n",
              "2        0.9           NaN  Didier Deschamps           Hugo Lloris  ...   \n",
              "3        0.5           NaN    Lionel Scaloni          Lionel Messi  ...   \n",
              "4        0.9           NaN   Hoalid Regragui          Romain Saïss  ...   \n",
              "..       ...           ...               ...                   ...  ...   \n",
              "959      NaN           NaN  Francisco Olazar       Manuel Ferreira  ...   \n",
              "960      NaN           NaN   Bosko Simonovic       Milutin Ivković  ...   \n",
              "961      NaN           NaN     Octav Luchide          Emerich Vogl  ...   \n",
              "962      NaN           NaN        Bob Millar            Tom Florie  ...   \n",
              "963      NaN           NaN     Raoul Caudron  Alexandre Villaplane  ...   \n",
              "\n",
              "    home_penalty_shootout_miss_long  \\\n",
              "0                               NaN   \n",
              "1                               NaN   \n",
              "2                               NaN   \n",
              "3                               NaN   \n",
              "4                               NaN   \n",
              "..                              ...   \n",
              "959                             NaN   \n",
              "960                             NaN   \n",
              "961                             NaN   \n",
              "962                             NaN   \n",
              "963                             NaN   \n",
              "\n",
              "                       away_penalty_shootout_miss_long  home_red_card  \\\n",
              "0    ['3|1:1|Kingsley Coman', '5|2:1|Aurélien Tchou...            NaN   \n",
              "1                                                  NaN            NaN   \n",
              "2                                                  NaN            NaN   \n",
              "3                                                  NaN            NaN   \n",
              "4                                                  NaN            NaN   \n",
              "..                                                 ...            ...   \n",
              "959                                                NaN            NaN   \n",
              "960                                                NaN            NaN   \n",
              "961                                                NaN            NaN   \n",
              "962                                                NaN            NaN   \n",
              "963                                                NaN            NaN   \n",
              "\n",
              "            away_red_card   home_yellow_red_card away_yellow_red_card  \\\n",
              "0                     NaN                    NaN                  NaN   \n",
              "1                     NaN                    NaN                  NaN   \n",
              "2                     NaN                    NaN                  NaN   \n",
              "3                     NaN                    NaN                  NaN   \n",
              "4                     NaN  Walid Cheddira · 90+3                  NaN   \n",
              "..                    ...                    ...                  ...   \n",
              "959                   NaN                    NaN                  NaN   \n",
              "960                   NaN                    NaN                  NaN   \n",
              "961  Plácido Galindo · 70                    NaN                  NaN   \n",
              "962                   NaN                    NaN                  NaN   \n",
              "963                   NaN                    NaN                  NaN   \n",
              "\n",
              "                                 home_yellow_card_long  \\\n",
              "0    ['45+7&rsquor;|2:0|Enzo Fernández', '90+8&rsqu...   \n",
              "1                                                  NaN   \n",
              "2                                                  NaN   \n",
              "3    ['68&rsquor;|2:0|Cristian Romero', '71&rsquor;...   \n",
              "4    ['70&rsquor;|1:0|Achraf Dari', '90+1&rsquor;|1...   \n",
              "..                                                 ...   \n",
              "959                                                NaN   \n",
              "960                                                NaN   \n",
              "961                                                NaN   \n",
              "962                                                NaN   \n",
              "963                                                NaN   \n",
              "\n",
              "                                 away_yellow_card_long  \\\n",
              "0    ['55&rsquor;|2:0|Adrien Rabiot', '87&rsquor;|2...   \n",
              "1    ['69&rsquor;|2:1|Azzedine Ounahi', '84&rsquor;...   \n",
              "2                    ['27&rsquor;|1:0|Sofiane Boufal']   \n",
              "3    ['32&rsquor;|0:0|Mateo Kovačić', '32&rsquor;|0...   \n",
              "4                           ['87&rsquor;|1:0|Vitinha']   \n",
              "..                                                 ...   \n",
              "959                                                NaN   \n",
              "960                                                NaN   \n",
              "961                                                NaN   \n",
              "962                                                NaN   \n",
              "963                                                NaN   \n",
              "\n",
              "                               home_substitute_in_long  \\\n",
              "0    ['64&rsquor;|2:0|Marcos Acuña|for Ángel Di Mar...   \n",
              "1    ['61&rsquor;|2:1|Nikola Vlašić|for Andrej Kram...   \n",
              "2    ['65&rsquor;|1:0|Marcus Thuram|for Olivier Gir...   \n",
              "3    ['62&rsquor;|2:0|Lisandro Martínez|for Leandro...   \n",
              "4    ['57&rsquor;|1:0|Achraf Dari|for Romain Saïss'...   \n",
              "..                                                 ...   \n",
              "959                                                NaN   \n",
              "960                                                NaN   \n",
              "961                                                NaN   \n",
              "962                                                NaN   \n",
              "963                                                NaN   \n",
              "\n",
              "                               away_substitute_in_long  \n",
              "0    ['41&rsquor;|2:0|Randal Kolo Muani|for Ousmane...  \n",
              "1    ['46&rsquor;|2:1|Ilias Chair|for Abdelhamid Sa...  \n",
              "2    ['21&rsquor;|1:0|Selim Amallah|for Romain Saïs...  \n",
              "3    ['46&rsquor;|2:0|Mislav Oršić|for Borna Sosa',...  \n",
              "4    ['51&rsquor;|1:0|João Cancelo|for Raphaël Guer...  \n",
              "..                                                 ...  \n",
              "959                                                NaN  \n",
              "960                                                NaN  \n",
              "961                                                NaN  \n",
              "962                                                NaN  \n",
              "963                                                NaN  \n",
              "\n",
              "[964 rows x 44 columns]"
            ],
            "text/html": [
              "\n",
              "  <div id=\"df-8ca47241-461a-43c3-81f7-c2afd2ed497e\" class=\"colab-df-container\">\n",
              "    <div>\n",
              "<style scoped>\n",
              "    .dataframe tbody tr th:only-of-type {\n",
              "        vertical-align: middle;\n",
              "    }\n",
              "\n",
              "    .dataframe tbody tr th {\n",
              "        vertical-align: top;\n",
              "    }\n",
              "\n",
              "    .dataframe thead th {\n",
              "        text-align: right;\n",
              "    }\n",
              "</style>\n",
              "<table border=\"1\" class=\"dataframe\">\n",
              "  <thead>\n",
              "    <tr style=\"text-align: right;\">\n",
              "      <th></th>\n",
              "      <th>home_team</th>\n",
              "      <th>away_team</th>\n",
              "      <th>home_score</th>\n",
              "      <th>home_xg</th>\n",
              "      <th>home_penalty</th>\n",
              "      <th>away_score</th>\n",
              "      <th>away_xg</th>\n",
              "      <th>away_penalty</th>\n",
              "      <th>home_manager</th>\n",
              "      <th>home_captain</th>\n",
              "      <th>...</th>\n",
              "      <th>home_penalty_shootout_miss_long</th>\n",
              "      <th>away_penalty_shootout_miss_long</th>\n",
              "      <th>home_red_card</th>\n",
              "      <th>away_red_card</th>\n",
              "      <th>home_yellow_red_card</th>\n",
              "      <th>away_yellow_red_card</th>\n",
              "      <th>home_yellow_card_long</th>\n",
              "      <th>away_yellow_card_long</th>\n",
              "      <th>home_substitute_in_long</th>\n",
              "      <th>away_substitute_in_long</th>\n",
              "    </tr>\n",
              "  </thead>\n",
              "  <tbody>\n",
              "    <tr>\n",
              "      <th>0</th>\n",
              "      <td>Argentina</td>\n",
              "      <td>France</td>\n",
              "      <td>3</td>\n",
              "      <td>3.3</td>\n",
              "      <td>4.0</td>\n",
              "      <td>3</td>\n",
              "      <td>2.2</td>\n",
              "      <td>2.0</td>\n",
              "      <td>Lionel Scaloni</td>\n",
              "      <td>Lionel Messi</td>\n",
              "      <td>...</td>\n",
              "      <td>NaN</td>\n",
              "      <td>['3|1:1|Kingsley Coman', '5|2:1|Aurélien Tchou...</td>\n",
              "      <td>NaN</td>\n",
              "      <td>NaN</td>\n",
              "      <td>NaN</td>\n",
              "      <td>NaN</td>\n",
              "      <td>['45+7&amp;rsquor;|2:0|Enzo Fernández', '90+8&amp;rsqu...</td>\n",
              "      <td>['55&amp;rsquor;|2:0|Adrien Rabiot', '87&amp;rsquor;|2...</td>\n",
              "      <td>['64&amp;rsquor;|2:0|Marcos Acuña|for Ángel Di Mar...</td>\n",
              "      <td>['41&amp;rsquor;|2:0|Randal Kolo Muani|for Ousmane...</td>\n",
              "    </tr>\n",
              "    <tr>\n",
              "      <th>1</th>\n",
              "      <td>Croatia</td>\n",
              "      <td>Morocco</td>\n",
              "      <td>2</td>\n",
              "      <td>0.7</td>\n",
              "      <td>NaN</td>\n",
              "      <td>1</td>\n",
              "      <td>1.2</td>\n",
              "      <td>NaN</td>\n",
              "      <td>Zlatko Dalić</td>\n",
              "      <td>Luka Modrić</td>\n",
              "      <td>...</td>\n",
              "      <td>NaN</td>\n",
              "      <td>NaN</td>\n",
              "      <td>NaN</td>\n",
              "      <td>NaN</td>\n",
              "      <td>NaN</td>\n",
              "      <td>NaN</td>\n",
              "      <td>NaN</td>\n",
              "      <td>['69&amp;rsquor;|2:1|Azzedine Ounahi', '84&amp;rsquor;...</td>\n",
              "      <td>['61&amp;rsquor;|2:1|Nikola Vlašić|for Andrej Kram...</td>\n",
              "      <td>['46&amp;rsquor;|2:1|Ilias Chair|for Abdelhamid Sa...</td>\n",
              "    </tr>\n",
              "    <tr>\n",
              "      <th>2</th>\n",
              "      <td>France</td>\n",
              "      <td>Morocco</td>\n",
              "      <td>2</td>\n",
              "      <td>2.0</td>\n",
              "      <td>NaN</td>\n",
              "      <td>0</td>\n",
              "      <td>0.9</td>\n",
              "      <td>NaN</td>\n",
              "      <td>Didier Deschamps</td>\n",
              "      <td>Hugo Lloris</td>\n",
              "      <td>...</td>\n",
              "      <td>NaN</td>\n",
              "      <td>NaN</td>\n",
              "      <td>NaN</td>\n",
              "      <td>NaN</td>\n",
              "      <td>NaN</td>\n",
              "      <td>NaN</td>\n",
              "      <td>NaN</td>\n",
              "      <td>['27&amp;rsquor;|1:0|Sofiane Boufal']</td>\n",
              "      <td>['65&amp;rsquor;|1:0|Marcus Thuram|for Olivier Gir...</td>\n",
              "      <td>['21&amp;rsquor;|1:0|Selim Amallah|for Romain Saïs...</td>\n",
              "    </tr>\n",
              "    <tr>\n",
              "      <th>3</th>\n",
              "      <td>Argentina</td>\n",
              "      <td>Croatia</td>\n",
              "      <td>3</td>\n",
              "      <td>2.3</td>\n",
              "      <td>NaN</td>\n",
              "      <td>0</td>\n",
              "      <td>0.5</td>\n",
              "      <td>NaN</td>\n",
              "      <td>Lionel Scaloni</td>\n",
              "      <td>Lionel Messi</td>\n",
              "      <td>...</td>\n",
              "      <td>NaN</td>\n",
              "      <td>NaN</td>\n",
              "      <td>NaN</td>\n",
              "      <td>NaN</td>\n",
              "      <td>NaN</td>\n",
              "      <td>NaN</td>\n",
              "      <td>['68&amp;rsquor;|2:0|Cristian Romero', '71&amp;rsquor;...</td>\n",
              "      <td>['32&amp;rsquor;|0:0|Mateo Kovačić', '32&amp;rsquor;|0...</td>\n",
              "      <td>['62&amp;rsquor;|2:0|Lisandro Martínez|for Leandro...</td>\n",
              "      <td>['46&amp;rsquor;|2:0|Mislav Oršić|for Borna Sosa',...</td>\n",
              "    </tr>\n",
              "    <tr>\n",
              "      <th>4</th>\n",
              "      <td>Morocco</td>\n",
              "      <td>Portugal</td>\n",
              "      <td>1</td>\n",
              "      <td>1.4</td>\n",
              "      <td>NaN</td>\n",
              "      <td>0</td>\n",
              "      <td>0.9</td>\n",
              "      <td>NaN</td>\n",
              "      <td>Hoalid Regragui</td>\n",
              "      <td>Romain Saïss</td>\n",
              "      <td>...</td>\n",
              "      <td>NaN</td>\n",
              "      <td>NaN</td>\n",
              "      <td>NaN</td>\n",
              "      <td>NaN</td>\n",
              "      <td>Walid Cheddira · 90+3</td>\n",
              "      <td>NaN</td>\n",
              "      <td>['70&amp;rsquor;|1:0|Achraf Dari', '90+1&amp;rsquor;|1...</td>\n",
              "      <td>['87&amp;rsquor;|1:0|Vitinha']</td>\n",
              "      <td>['57&amp;rsquor;|1:0|Achraf Dari|for Romain Saïss'...</td>\n",
              "      <td>['51&amp;rsquor;|1:0|João Cancelo|for Raphaël Guer...</td>\n",
              "    </tr>\n",
              "    <tr>\n",
              "      <th>...</th>\n",
              "      <td>...</td>\n",
              "      <td>...</td>\n",
              "      <td>...</td>\n",
              "      <td>...</td>\n",
              "      <td>...</td>\n",
              "      <td>...</td>\n",
              "      <td>...</td>\n",
              "      <td>...</td>\n",
              "      <td>...</td>\n",
              "      <td>...</td>\n",
              "      <td>...</td>\n",
              "      <td>...</td>\n",
              "      <td>...</td>\n",
              "      <td>...</td>\n",
              "      <td>...</td>\n",
              "      <td>...</td>\n",
              "      <td>...</td>\n",
              "      <td>...</td>\n",
              "      <td>...</td>\n",
              "      <td>...</td>\n",
              "      <td>...</td>\n",
              "    </tr>\n",
              "    <tr>\n",
              "      <th>959</th>\n",
              "      <td>Argentina</td>\n",
              "      <td>France</td>\n",
              "      <td>1</td>\n",
              "      <td>NaN</td>\n",
              "      <td>NaN</td>\n",
              "      <td>0</td>\n",
              "      <td>NaN</td>\n",
              "      <td>NaN</td>\n",
              "      <td>Francisco Olazar</td>\n",
              "      <td>Manuel Ferreira</td>\n",
              "      <td>...</td>\n",
              "      <td>NaN</td>\n",
              "      <td>NaN</td>\n",
              "      <td>NaN</td>\n",
              "      <td>NaN</td>\n",
              "      <td>NaN</td>\n",
              "      <td>NaN</td>\n",
              "      <td>NaN</td>\n",
              "      <td>NaN</td>\n",
              "      <td>NaN</td>\n",
              "      <td>NaN</td>\n",
              "    </tr>\n",
              "    <tr>\n",
              "      <th>960</th>\n",
              "      <td>Yugoslavia</td>\n",
              "      <td>Brazil</td>\n",
              "      <td>2</td>\n",
              "      <td>NaN</td>\n",
              "      <td>NaN</td>\n",
              "      <td>1</td>\n",
              "      <td>NaN</td>\n",
              "      <td>NaN</td>\n",
              "      <td>Bosko Simonovic</td>\n",
              "      <td>Milutin Ivković</td>\n",
              "      <td>...</td>\n",
              "      <td>NaN</td>\n",
              "      <td>NaN</td>\n",
              "      <td>NaN</td>\n",
              "      <td>NaN</td>\n",
              "      <td>NaN</td>\n",
              "      <td>NaN</td>\n",
              "      <td>NaN</td>\n",
              "      <td>NaN</td>\n",
              "      <td>NaN</td>\n",
              "      <td>NaN</td>\n",
              "    </tr>\n",
              "    <tr>\n",
              "      <th>961</th>\n",
              "      <td>Romania</td>\n",
              "      <td>Peru</td>\n",
              "      <td>3</td>\n",
              "      <td>NaN</td>\n",
              "      <td>NaN</td>\n",
              "      <td>1</td>\n",
              "      <td>NaN</td>\n",
              "      <td>NaN</td>\n",
              "      <td>Octav Luchide</td>\n",
              "      <td>Emerich Vogl</td>\n",
              "      <td>...</td>\n",
              "      <td>NaN</td>\n",
              "      <td>NaN</td>\n",
              "      <td>NaN</td>\n",
              "      <td>Plácido Galindo · 70</td>\n",
              "      <td>NaN</td>\n",
              "      <td>NaN</td>\n",
              "      <td>NaN</td>\n",
              "      <td>NaN</td>\n",
              "      <td>NaN</td>\n",
              "      <td>NaN</td>\n",
              "    </tr>\n",
              "    <tr>\n",
              "      <th>962</th>\n",
              "      <td>United States</td>\n",
              "      <td>Belgium</td>\n",
              "      <td>3</td>\n",
              "      <td>NaN</td>\n",
              "      <td>NaN</td>\n",
              "      <td>0</td>\n",
              "      <td>NaN</td>\n",
              "      <td>NaN</td>\n",
              "      <td>Bob Millar</td>\n",
              "      <td>Tom Florie</td>\n",
              "      <td>...</td>\n",
              "      <td>NaN</td>\n",
              "      <td>NaN</td>\n",
              "      <td>NaN</td>\n",
              "      <td>NaN</td>\n",
              "      <td>NaN</td>\n",
              "      <td>NaN</td>\n",
              "      <td>NaN</td>\n",
              "      <td>NaN</td>\n",
              "      <td>NaN</td>\n",
              "      <td>NaN</td>\n",
              "    </tr>\n",
              "    <tr>\n",
              "      <th>963</th>\n",
              "      <td>France</td>\n",
              "      <td>Mexico</td>\n",
              "      <td>4</td>\n",
              "      <td>NaN</td>\n",
              "      <td>NaN</td>\n",
              "      <td>1</td>\n",
              "      <td>NaN</td>\n",
              "      <td>NaN</td>\n",
              "      <td>Raoul Caudron</td>\n",
              "      <td>Alexandre Villaplane</td>\n",
              "      <td>...</td>\n",
              "      <td>NaN</td>\n",
              "      <td>NaN</td>\n",
              "      <td>NaN</td>\n",
              "      <td>NaN</td>\n",
              "      <td>NaN</td>\n",
              "      <td>NaN</td>\n",
              "      <td>NaN</td>\n",
              "      <td>NaN</td>\n",
              "      <td>NaN</td>\n",
              "      <td>NaN</td>\n",
              "    </tr>\n",
              "  </tbody>\n",
              "</table>\n",
              "<p>964 rows × 44 columns</p>\n",
              "</div>\n",
              "    <div class=\"colab-df-buttons\">\n",
              "\n",
              "  <div class=\"colab-df-container\">\n",
              "    <button class=\"colab-df-convert\" onclick=\"convertToInteractive('df-8ca47241-461a-43c3-81f7-c2afd2ed497e')\"\n",
              "            title=\"Convert this dataframe to an interactive table.\"\n",
              "            style=\"display:none;\">\n",
              "\n",
              "  <svg xmlns=\"http://www.w3.org/2000/svg\" height=\"24px\" viewBox=\"0 -960 960 960\">\n",
              "    <path d=\"M120-120v-720h720v720H120Zm60-500h600v-160H180v160Zm220 220h160v-160H400v160Zm0 220h160v-160H400v160ZM180-400h160v-160H180v160Zm440 0h160v-160H620v160ZM180-180h160v-160H180v160Zm440 0h160v-160H620v160Z\"/>\n",
              "  </svg>\n",
              "    </button>\n",
              "\n",
              "  <style>\n",
              "    .colab-df-container {\n",
              "      display:flex;\n",
              "      gap: 12px;\n",
              "    }\n",
              "\n",
              "    .colab-df-convert {\n",
              "      background-color: #E8F0FE;\n",
              "      border: none;\n",
              "      border-radius: 50%;\n",
              "      cursor: pointer;\n",
              "      display: none;\n",
              "      fill: #1967D2;\n",
              "      height: 32px;\n",
              "      padding: 0 0 0 0;\n",
              "      width: 32px;\n",
              "    }\n",
              "\n",
              "    .colab-df-convert:hover {\n",
              "      background-color: #E2EBFA;\n",
              "      box-shadow: 0px 1px 2px rgba(60, 64, 67, 0.3), 0px 1px 3px 1px rgba(60, 64, 67, 0.15);\n",
              "      fill: #174EA6;\n",
              "    }\n",
              "\n",
              "    .colab-df-buttons div {\n",
              "      margin-bottom: 4px;\n",
              "    }\n",
              "\n",
              "    [theme=dark] .colab-df-convert {\n",
              "      background-color: #3B4455;\n",
              "      fill: #D2E3FC;\n",
              "    }\n",
              "\n",
              "    [theme=dark] .colab-df-convert:hover {\n",
              "      background-color: #434B5C;\n",
              "      box-shadow: 0px 1px 3px 1px rgba(0, 0, 0, 0.15);\n",
              "      filter: drop-shadow(0px 1px 2px rgba(0, 0, 0, 0.3));\n",
              "      fill: #FFFFFF;\n",
              "    }\n",
              "  </style>\n",
              "\n",
              "    <script>\n",
              "      const buttonEl =\n",
              "        document.querySelector('#df-8ca47241-461a-43c3-81f7-c2afd2ed497e button.colab-df-convert');\n",
              "      buttonEl.style.display =\n",
              "        google.colab.kernel.accessAllowed ? 'block' : 'none';\n",
              "\n",
              "      async function convertToInteractive(key) {\n",
              "        const element = document.querySelector('#df-8ca47241-461a-43c3-81f7-c2afd2ed497e');\n",
              "        const dataTable =\n",
              "          await google.colab.kernel.invokeFunction('convertToInteractive',\n",
              "                                                    [key], {});\n",
              "        if (!dataTable) return;\n",
              "\n",
              "        const docLinkHtml = 'Like what you see? Visit the ' +\n",
              "          '<a target=\"_blank\" href=https://colab.research.google.com/notebooks/data_table.ipynb>data table notebook</a>'\n",
              "          + ' to learn more about interactive tables.';\n",
              "        element.innerHTML = '';\n",
              "        dataTable['output_type'] = 'display_data';\n",
              "        await google.colab.output.renderOutput(dataTable, element);\n",
              "        const docLink = document.createElement('div');\n",
              "        docLink.innerHTML = docLinkHtml;\n",
              "        element.appendChild(docLink);\n",
              "      }\n",
              "    </script>\n",
              "  </div>\n",
              "\n",
              "\n",
              "<div id=\"df-cfbca2df-d592-4cfd-bff0-6450976474ae\">\n",
              "  <button class=\"colab-df-quickchart\" onclick=\"quickchart('df-cfbca2df-d592-4cfd-bff0-6450976474ae')\"\n",
              "            title=\"Suggest charts\"\n",
              "            style=\"display:none;\">\n",
              "\n",
              "<svg xmlns=\"http://www.w3.org/2000/svg\" height=\"24px\"viewBox=\"0 0 24 24\"\n",
              "     width=\"24px\">\n",
              "    <g>\n",
              "        <path d=\"M19 3H5c-1.1 0-2 .9-2 2v14c0 1.1.9 2 2 2h14c1.1 0 2-.9 2-2V5c0-1.1-.9-2-2-2zM9 17H7v-7h2v7zm4 0h-2V7h2v10zm4 0h-2v-4h2v4z\"/>\n",
              "    </g>\n",
              "</svg>\n",
              "  </button>\n",
              "\n",
              "<style>\n",
              "  .colab-df-quickchart {\n",
              "      --bg-color: #E8F0FE;\n",
              "      --fill-color: #1967D2;\n",
              "      --hover-bg-color: #E2EBFA;\n",
              "      --hover-fill-color: #174EA6;\n",
              "      --disabled-fill-color: #AAA;\n",
              "      --disabled-bg-color: #DDD;\n",
              "  }\n",
              "\n",
              "  [theme=dark] .colab-df-quickchart {\n",
              "      --bg-color: #3B4455;\n",
              "      --fill-color: #D2E3FC;\n",
              "      --hover-bg-color: #434B5C;\n",
              "      --hover-fill-color: #FFFFFF;\n",
              "      --disabled-bg-color: #3B4455;\n",
              "      --disabled-fill-color: #666;\n",
              "  }\n",
              "\n",
              "  .colab-df-quickchart {\n",
              "    background-color: var(--bg-color);\n",
              "    border: none;\n",
              "    border-radius: 50%;\n",
              "    cursor: pointer;\n",
              "    display: none;\n",
              "    fill: var(--fill-color);\n",
              "    height: 32px;\n",
              "    padding: 0;\n",
              "    width: 32px;\n",
              "  }\n",
              "\n",
              "  .colab-df-quickchart:hover {\n",
              "    background-color: var(--hover-bg-color);\n",
              "    box-shadow: 0 1px 2px rgba(60, 64, 67, 0.3), 0 1px 3px 1px rgba(60, 64, 67, 0.15);\n",
              "    fill: var(--button-hover-fill-color);\n",
              "  }\n",
              "\n",
              "  .colab-df-quickchart-complete:disabled,\n",
              "  .colab-df-quickchart-complete:disabled:hover {\n",
              "    background-color: var(--disabled-bg-color);\n",
              "    fill: var(--disabled-fill-color);\n",
              "    box-shadow: none;\n",
              "  }\n",
              "\n",
              "  .colab-df-spinner {\n",
              "    border: 2px solid var(--fill-color);\n",
              "    border-color: transparent;\n",
              "    border-bottom-color: var(--fill-color);\n",
              "    animation:\n",
              "      spin 1s steps(1) infinite;\n",
              "  }\n",
              "\n",
              "  @keyframes spin {\n",
              "    0% {\n",
              "      border-color: transparent;\n",
              "      border-bottom-color: var(--fill-color);\n",
              "      border-left-color: var(--fill-color);\n",
              "    }\n",
              "    20% {\n",
              "      border-color: transparent;\n",
              "      border-left-color: var(--fill-color);\n",
              "      border-top-color: var(--fill-color);\n",
              "    }\n",
              "    30% {\n",
              "      border-color: transparent;\n",
              "      border-left-color: var(--fill-color);\n",
              "      border-top-color: var(--fill-color);\n",
              "      border-right-color: var(--fill-color);\n",
              "    }\n",
              "    40% {\n",
              "      border-color: transparent;\n",
              "      border-right-color: var(--fill-color);\n",
              "      border-top-color: var(--fill-color);\n",
              "    }\n",
              "    60% {\n",
              "      border-color: transparent;\n",
              "      border-right-color: var(--fill-color);\n",
              "    }\n",
              "    80% {\n",
              "      border-color: transparent;\n",
              "      border-right-color: var(--fill-color);\n",
              "      border-bottom-color: var(--fill-color);\n",
              "    }\n",
              "    90% {\n",
              "      border-color: transparent;\n",
              "      border-bottom-color: var(--fill-color);\n",
              "    }\n",
              "  }\n",
              "</style>\n",
              "\n",
              "  <script>\n",
              "    async function quickchart(key) {\n",
              "      const quickchartButtonEl =\n",
              "        document.querySelector('#' + key + ' button');\n",
              "      quickchartButtonEl.disabled = true;  // To prevent multiple clicks.\n",
              "      quickchartButtonEl.classList.add('colab-df-spinner');\n",
              "      try {\n",
              "        const charts = await google.colab.kernel.invokeFunction(\n",
              "            'suggestCharts', [key], {});\n",
              "      } catch (error) {\n",
              "        console.error('Error during call to suggestCharts:', error);\n",
              "      }\n",
              "      quickchartButtonEl.classList.remove('colab-df-spinner');\n",
              "      quickchartButtonEl.classList.add('colab-df-quickchart-complete');\n",
              "    }\n",
              "    (() => {\n",
              "      let quickchartButtonEl =\n",
              "        document.querySelector('#df-cfbca2df-d592-4cfd-bff0-6450976474ae button');\n",
              "      quickchartButtonEl.style.display =\n",
              "        google.colab.kernel.accessAllowed ? 'block' : 'none';\n",
              "    })();\n",
              "  </script>\n",
              "</div>\n",
              "\n",
              "  <div id=\"id_a44fcd1f-e69b-4ac1-8926-058c0cec5f9e\">\n",
              "    <style>\n",
              "      .colab-df-generate {\n",
              "        background-color: #E8F0FE;\n",
              "        border: none;\n",
              "        border-radius: 50%;\n",
              "        cursor: pointer;\n",
              "        display: none;\n",
              "        fill: #1967D2;\n",
              "        height: 32px;\n",
              "        padding: 0 0 0 0;\n",
              "        width: 32px;\n",
              "      }\n",
              "\n",
              "      .colab-df-generate:hover {\n",
              "        background-color: #E2EBFA;\n",
              "        box-shadow: 0px 1px 2px rgba(60, 64, 67, 0.3), 0px 1px 3px 1px rgba(60, 64, 67, 0.15);\n",
              "        fill: #174EA6;\n",
              "      }\n",
              "\n",
              "      [theme=dark] .colab-df-generate {\n",
              "        background-color: #3B4455;\n",
              "        fill: #D2E3FC;\n",
              "      }\n",
              "\n",
              "      [theme=dark] .colab-df-generate:hover {\n",
              "        background-color: #434B5C;\n",
              "        box-shadow: 0px 1px 3px 1px rgba(0, 0, 0, 0.15);\n",
              "        filter: drop-shadow(0px 1px 2px rgba(0, 0, 0, 0.3));\n",
              "        fill: #FFFFFF;\n",
              "      }\n",
              "    </style>\n",
              "    <button class=\"colab-df-generate\" onclick=\"generateWithVariable('df')\"\n",
              "            title=\"Generate code using this dataframe.\"\n",
              "            style=\"display:none;\">\n",
              "\n",
              "  <svg xmlns=\"http://www.w3.org/2000/svg\" height=\"24px\"viewBox=\"0 0 24 24\"\n",
              "       width=\"24px\">\n",
              "    <path d=\"M7,19H8.4L18.45,9,17,7.55,7,17.6ZM5,21V16.75L18.45,3.32a2,2,0,0,1,2.83,0l1.4,1.43a1.91,1.91,0,0,1,.58,1.4,1.91,1.91,0,0,1-.58,1.4L9.25,21ZM18.45,9,17,7.55Zm-12,3A5.31,5.31,0,0,0,4.9,8.1,5.31,5.31,0,0,0,1,6.5,5.31,5.31,0,0,0,4.9,4.9,5.31,5.31,0,0,0,6.5,1,5.31,5.31,0,0,0,8.1,4.9,5.31,5.31,0,0,0,12,6.5,5.46,5.46,0,0,0,6.5,12Z\"/>\n",
              "  </svg>\n",
              "    </button>\n",
              "    <script>\n",
              "      (() => {\n",
              "      const buttonEl =\n",
              "        document.querySelector('#id_a44fcd1f-e69b-4ac1-8926-058c0cec5f9e button.colab-df-generate');\n",
              "      buttonEl.style.display =\n",
              "        google.colab.kernel.accessAllowed ? 'block' : 'none';\n",
              "\n",
              "      buttonEl.onclick = () => {\n",
              "        google.colab.notebook.generateWithVariable('df');\n",
              "      }\n",
              "      })();\n",
              "    </script>\n",
              "  </div>\n",
              "\n",
              "    </div>\n",
              "  </div>\n"
            ],
            "application/vnd.google.colaboratory.intrinsic+json": {
              "type": "dataframe",
              "variable_name": "df"
            }
          },
          "metadata": {},
          "execution_count": 6
        }
      ]
    },
    {
      "cell_type": "code",
      "source": [
        "df.columns"
      ],
      "metadata": {
        "colab": {
          "base_uri": "https://localhost:8080/"
        },
        "collapsed": true,
        "id": "4KxkMMDuv6So",
        "outputId": "6bf25140-2da6-45bc-cca4-d301cdb57a77"
      },
      "execution_count": 7,
      "outputs": [
        {
          "output_type": "execute_result",
          "data": {
            "text/plain": [
              "Index(['home_team', 'away_team', 'home_score', 'home_xg', 'home_penalty',\n",
              "       'away_score', 'away_xg', 'away_penalty', 'home_manager', 'home_captain',\n",
              "       'away_manager', 'away_captain', 'Attendance', 'Venue', 'Officials',\n",
              "       'Round', 'Date', 'Score', 'Referee', 'Notes', 'Host', 'Year',\n",
              "       'home_goal', 'away_goal', 'home_goal_long', 'away_goal_long',\n",
              "       'home_own_goal', 'away_own_goal', 'home_penalty_goal',\n",
              "       'away_penalty_goal', 'home_penalty_miss_long', 'away_penalty_miss_long',\n",
              "       'home_penalty_shootout_goal_long', 'away_penalty_shootout_goal_long',\n",
              "       'home_penalty_shootout_miss_long', 'away_penalty_shootout_miss_long',\n",
              "       'home_red_card', 'away_red_card', 'home_yellow_red_card',\n",
              "       'away_yellow_red_card', 'home_yellow_card_long',\n",
              "       'away_yellow_card_long', 'home_substitute_in_long',\n",
              "       'away_substitute_in_long'],\n",
              "      dtype='object')"
            ]
          },
          "metadata": {},
          "execution_count": 7
        }
      ]
    },
    {
      "cell_type": "code",
      "source": [
        "def AnalyzeFrance():\n",
        "  matchesplayed = df['home_team'].value_counts()['France']\n",
        "  print(f'Total number of matches played by France is {matchesplayed}')"
      ],
      "metadata": {
        "id": "UANQ13CqTv0Y"
      },
      "execution_count": 26,
      "outputs": []
    },
    {
      "cell_type": "code",
      "source": [
        "AnalyzeFrance()"
      ],
      "metadata": {
        "colab": {
          "base_uri": "https://localhost:8080/"
        },
        "id": "E9kwrgSwTvxD",
        "outputId": "fc265974-9ef4-4500-e3ee-ad3e0eec16f0"
      },
      "execution_count": 28,
      "outputs": [
        {
          "output_type": "stream",
          "name": "stdout",
          "text": [
            "Total number of matches played by France is 38\n"
          ]
        }
      ]
    },
    {
      "cell_type": "code",
      "source": [
        "def AnalyzeTowns():\n",
        "  TownData = df['home_team'].value_counts()\n",
        "  for _ in TownData.index:\n",
        "    print(f'Total number of matches played by {_} is {TownData[_]}')\n",
        ""
      ],
      "metadata": {
        "collapsed": true,
        "id": "6ofalEdZTvte"
      },
      "execution_count": 30,
      "outputs": []
    },
    {
      "cell_type": "code",
      "source": [
        "AnalyzeTowns()"
      ],
      "metadata": {
        "colab": {
          "base_uri": "https://localhost:8080/"
        },
        "collapsed": true,
        "id": "lBrDQywITvrW",
        "outputId": "3dc8e698-94cf-45e6-fefd-6f06cb166539"
      },
      "execution_count": 31,
      "outputs": [
        {
          "output_type": "stream",
          "name": "stdout",
          "text": [
            "Total number of matches played by Brazil is 85\n",
            "Total number of matches played by Argentina is 59\n",
            "Total number of matches played by Italy is 57\n",
            "Total number of matches played by England is 40\n",
            "Total number of matches played by Germany is 40\n",
            "Total number of matches played by France is 38\n",
            "Total number of matches played by West Germany is 38\n",
            "Total number of matches played by Spain is 34\n",
            "Total number of matches played by Netherlands is 33\n",
            "Total number of matches played by Uruguay is 33\n",
            "Total number of matches played by Sweden is 30\n",
            "Total number of matches played by Belgium is 23\n",
            "Total number of matches played by Portugal is 21\n",
            "Total number of matches played by Poland is 20\n",
            "Total number of matches played by Soviet Union is 18\n",
            "Total number of matches played by Hungary is 18\n",
            "Total number of matches played by Mexico is 18\n",
            "Total number of matches played by Korea Republic is 18\n",
            "Total number of matches played by Switzerland is 16\n",
            "Total number of matches played by United States is 16\n",
            "Total number of matches played by Yugoslavia is 16\n",
            "Total number of matches played by Japan is 15\n",
            "Total number of matches played by Chile is 14\n",
            "Total number of matches played by Cameroon is 13\n",
            "Total number of matches played by Austria is 12\n",
            "Total number of matches played by Paraguay is 11\n",
            "Total number of matches played by Nigeria is 11\n",
            "Total number of matches played by Denmark is 10\n",
            "Total number of matches played by Czechoslovakia is 10\n",
            "Total number of matches played by Croatia is 10\n",
            "Total number of matches played by Scotland is 9\n",
            "Total number of matches played by Romania is 9\n",
            "Total number of matches played by Colombia is 8\n",
            "Total number of matches played by Morocco is 8\n",
            "Total number of matches played by Saudi Arabia is 8\n",
            "Total number of matches played by Australia is 8\n",
            "Total number of matches played by Costa Rica is 8\n",
            "Total number of matches played by Tunisia is 7\n",
            "Total number of matches played by Bulgaria is 7\n",
            "Total number of matches played by Peru is 6\n",
            "Total number of matches played by South Africa is 6\n",
            "Total number of matches played by Russia is 6\n",
            "Total number of matches played by Algeria is 6\n",
            "Total number of matches played by Ecuador is 5\n",
            "Total number of matches played by IR Iran is 5\n",
            "Total number of matches played by Ghana is 5\n",
            "Total number of matches played by Republic of Ireland is 5\n",
            "Total number of matches played by Honduras is 5\n",
            "Total number of matches played by Northern Ireland is 5\n",
            "Total number of matches played by Serbia is 4\n",
            "Total number of matches played by Greece is 4\n",
            "Total number of matches played by Senegal is 4\n",
            "Total number of matches played by Korea DPR is 3\n",
            "Total number of matches played by Germany DR is 3\n",
            "Total number of matches played by Slovenia is 3\n",
            "Total number of matches played by Côte d'Ivoire is 3\n",
            "Total number of matches played by Wales is 3\n",
            "Total number of matches played by Iraq is 2\n",
            "Total number of matches played by Zaire is 2\n",
            "Total number of matches played by Cuba is 2\n",
            "Total number of matches played by Canada is 2\n",
            "Total number of matches played by Qatar is 2\n",
            "Total number of matches played by Slovakia is 2\n",
            "Total number of matches played by Czech Republic is 2\n",
            "Total number of matches played by Togo is 2\n",
            "Total number of matches played by Türkiye is 2\n",
            "Total number of matches played by China PR is 1\n",
            "Total number of matches played by United Arab Emirates is 1\n",
            "Total number of matches played by Haiti is 1\n",
            "Total number of matches played by Panama is 1\n",
            "Total number of matches played by Iceland is 1\n",
            "Total number of matches played by Egypt is 1\n",
            "Total number of matches played by Ukraine is 1\n",
            "Total number of matches played by New Zealand is 1\n",
            "Total number of matches played by Norway is 1\n",
            "Total number of matches played by Bolivia is 1\n",
            "Total number of matches played by Serbia and Montenegro is 1\n",
            "Total number of matches played by Jamaica is 1\n",
            "Total number of matches played by FR Yugoslavia is 1\n",
            "Total number of matches played by Angola is 1\n",
            "Total number of matches played by Trinidad and Tobago is 1\n",
            "Total number of matches played by Bosnia and Herzegovina is 1\n"
          ]
        }
      ]
    },
    {
      "cell_type": "code",
      "source": [
        "%matplotlib inline"
      ],
      "metadata": {
        "id": "2Mm60Dr0Tvni"
      },
      "execution_count": 32,
      "outputs": []
    },
    {
      "cell_type": "code",
      "source": [
        "Town30 = df['home_team'].value_counts().values > 30"
      ],
      "metadata": {
        "id": "8PtAaSMHTvlf"
      },
      "execution_count": 33,
      "outputs": []
    },
    {
      "cell_type": "code",
      "source": [
        "Town30"
      ],
      "metadata": {
        "colab": {
          "base_uri": "https://localhost:8080/"
        },
        "id": "lpY0PWm3YIhj",
        "outputId": "b7d317fc-7680-4346-dcaf-eaaee3436490"
      },
      "execution_count": 34,
      "outputs": [
        {
          "output_type": "execute_result",
          "data": {
            "text/plain": [
              "array([ True,  True,  True,  True,  True,  True,  True,  True,  True,\n",
              "        True, False, False, False, False, False, False, False, False,\n",
              "       False, False, False, False, False, False, False, False, False,\n",
              "       False, False, False, False, False, False, False, False, False,\n",
              "       False, False, False, False, False, False, False, False, False,\n",
              "       False, False, False, False, False, False, False, False, False,\n",
              "       False, False, False, False, False, False, False, False, False,\n",
              "       False, False, False, False, False, False, False, False, False,\n",
              "       False, False, False, False, False, False, False, False, False,\n",
              "       False])"
            ]
          },
          "metadata": {},
          "execution_count": 34
        }
      ]
    },
    {
      "cell_type": "code",
      "source": [
        "townName = []\n",
        "matchesPlayed = []\n",
        "TownData = df['home_team'].value_counts()\n",
        "for _ in TownData.index:\n",
        "  if TownData[_] > 30:\n",
        "    townName.append(_)\n",
        "    matchesPlayed.append(TownData[_])"
      ],
      "metadata": {
        "id": "tszb3GKpYOIU"
      },
      "execution_count": 35,
      "outputs": []
    },
    {
      "cell_type": "code",
      "source": [
        "from matplotlib import pyplot as plt"
      ],
      "metadata": {
        "id": "u8c6TmMCYOFV"
      },
      "execution_count": 37,
      "outputs": []
    },
    {
      "cell_type": "code",
      "source": [
        "plt.bar(matchesPlayed,townName)\n",
        "plt.ylabel('Town Name')\n",
        "plt.xlabel('matches played')\n",
        "plt.title('Matches played by towns')\n",
        "plt.show()"
      ],
      "metadata": {
        "colab": {
          "base_uri": "https://localhost:8080/",
          "height": 472
        },
        "id": "VPQ9y6EmYOCT",
        "outputId": "117dafbd-eed7-47b1-98b6-065fbc1c2e5b"
      },
      "execution_count": 49,
      "outputs": [
        {
          "output_type": "display_data",
          "data": {
            "text/plain": [
              "<Figure size 640x480 with 1 Axes>"
            ],
            "image/png": "[encoded data removed]"
          },
          "metadata": {}
        }
      ]
    },
    {
      "cell_type": "code",
      "source": [
        "f1 = df['home_team'].value_counts() > 30"
      ],
      "metadata": {
        "id": "hMDgtmHWil5c"
      },
      "execution_count": 82,
      "outputs": []
    },
    {
      "cell_type": "code",
      "source": [
        "teamsAbove30 = df['home_team'].value_counts() > 30"
      ],
      "metadata": {
        "id": "AWS0jt7-isfX"
      },
      "execution_count": 83,
      "outputs": []
    },
    {
      "cell_type": "code",
      "source": [
        "def matchesplayedByTown():\n",
        "  townName = []\n",
        "  matchesPlayed = []\n",
        "  TownData = df['home_team'].value_counts()\n",
        "  for _ in TownData.index:\n",
        "    if TownData[_] > 30:\n",
        "      townName.append(_)\n",
        "      matchesPlayed.append(TownData[_])\n",
        "  plt.bar(matchesPlayed,townName)\n",
        "  plt.ylabel('Town Name')\n",
        "  plt.xlabel('Matches Played')\n",
        "  plt.title('Matches played by Towns')\n",
        "  plt.show()"
      ],
      "metadata": {
        "id": "b3jYvMWrjc31"
      },
      "execution_count": 91,
      "outputs": []
    },
    {
      "cell_type": "code",
      "source": [
        "matchesplayedByTown()"
      ],
      "metadata": {
        "colab": {
          "base_uri": "https://localhost:8080/",
          "height": 472
        },
        "id": "lXdMuTj0juCQ",
        "outputId": "e1a4b24c-9454-4f2c-fb6c-03fab03c403b"
      },
      "execution_count": 92,
      "outputs": [
        {
          "output_type": "display_data",
          "data": {
            "text/plain": [
              "<Figure size 640x480 with 1 Axes>"
            ],
            "image/png": "[encoded data removed]"
          },
          "metadata": {}
        }
      ]
    },
    {
      "cell_type": "code",
      "source": [
        "def MatchesPlayedByTown2():\n",
        "  Above30 = df['home_team'].value_counts()\n",
        "  filteredData = Above30[Above30 > 30]\n",
        "  filteredData.plot(kind = 'barh')"
      ],
      "metadata": {
        "collapsed": true,
        "id": "BjbqMEroYOAZ"
      },
      "execution_count": 80,
      "outputs": []
    },
    {
      "cell_type": "code",
      "source": [
        "MatchesPlayedByTown2()"
      ],
      "metadata": {
        "colab": {
          "base_uri": "https://localhost:8080/",
          "height": 430
        },
        "id": "77qLC-oXeh1j",
        "outputId": "201f749a-9ae2-466d-e803-64cc9a264c9e"
      },
      "execution_count": 81,
      "outputs": [
        {
          "output_type": "display_data",
          "data": {
            "text/plain": [
              "<Figure size 640x480 with 1 Axes>"
            ],
            "image/png": "[encoded data removed]"
          },
          "metadata": {}
        }
      ]
    },
    {
      "cell_type": "code",
      "source": [],
      "metadata": {
        "id": "xH_pvB90fn1D"
      },
      "execution_count": 75,
      "outputs": []
    },
    {
      "cell_type": "code",
      "source": [],
      "metadata": {
        "id": "5xYTLWn8fnxX"
      },
      "execution_count": null,
      "outputs": []
    },
    {
      "cell_type": "code",
      "source": [],
      "metadata": {
        "id": "AOLm8VaNfnvW"
      },
      "execution_count": null,
      "outputs": []
    },
    {
      "cell_type": "code",
      "source": [],
      "metadata": {
        "id": "aO6RWrnbfnrZ"
      },
      "execution_count": null,
      "outputs": []
    },
    {
      "cell_type": "code",
      "source": [],
      "metadata": {
        "id": "_F_nlw5efnpF"
      },
      "execution_count": null,
      "outputs": []
    }
  ]
}